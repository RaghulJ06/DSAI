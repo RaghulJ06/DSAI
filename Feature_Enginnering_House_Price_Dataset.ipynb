{
  "cells": [
    {
      "cell_type": "markdown",
      "metadata": {
        "id": "view-in-github",
        "colab_type": "text"
      },
      "source": [
        "<a href=\"https://colab.research.google.com/github/RaghulJ06/DSAI/blob/main/Feature_Enginnering_House_Price_Dataset.ipynb\" target=\"_parent\"><img src=\"https://colab.research.google.com/assets/colab-badge.svg\" alt=\"Open In Colab\"/></a>"
      ]
    },
    {
      "cell_type": "markdown",
      "id": "6960c4fa",
      "metadata": {
        "id": "6960c4fa"
      },
      "source": [
        "# Feature Engineering\n",
        "\n",
        "- House Price Dataset"
      ]
    },
    {
      "cell_type": "code",
      "execution_count": null,
      "id": "9dba0ec1",
      "metadata": {
        "id": "9dba0ec1"
      },
      "outputs": [],
      "source": []
    },
    {
      "cell_type": "code",
      "execution_count": null,
      "id": "1a717ed7",
      "metadata": {
        "id": "1a717ed7"
      },
      "outputs": [],
      "source": [
        "import pandas as pd\n",
        "from sklearn.preprocessing import StandardScaler, LabelEncoder"
      ]
    },
    {
      "cell_type": "code",
      "execution_count": null,
      "id": "6c09c7d6",
      "metadata": {
        "id": "6c09c7d6"
      },
      "outputs": [],
      "source": [
        "# Load the \"house_prices.csv\" dataset\n",
        "data = pd.read_csv(\"house_prices.csv\")"
      ]
    },
    {
      "cell_type": "markdown",
      "id": "817671e0",
      "metadata": {
        "id": "817671e0"
      },
      "source": [
        "### Step 1: Handling Missing Values"
      ]
    },
    {
      "cell_type": "code",
      "execution_count": null,
      "id": "8e8ca205",
      "metadata": {
        "id": "8e8ca205"
      },
      "outputs": [],
      "source": [
        "data.dropna(inplace=True)  # Drop rows with missing values"
      ]
    },
    {
      "cell_type": "markdown",
      "id": "0a446811",
      "metadata": {
        "id": "0a446811"
      },
      "source": [
        "### Step 2: Encoding Categorical Variables"
      ]
    },
    {
      "cell_type": "code",
      "execution_count": null,
      "id": "702bf7ed",
      "metadata": {
        "id": "702bf7ed"
      },
      "outputs": [],
      "source": [
        "label_encoders = {}\n",
        "categorical_columns = data.select_dtypes(include=['object']).columns\n",
        "\n",
        "for col in categorical_columns:\n",
        "    le = LabelEncoder()\n",
        "    data[col] = le.fit_transform(data[col])\n",
        "    label_encoders[col] = le"
      ]
    },
    {
      "cell_type": "markdown",
      "id": "e747f1dc",
      "metadata": {
        "id": "e747f1dc"
      },
      "source": [
        "### Step 3: Feature Scaling"
      ]
    },
    {
      "cell_type": "code",
      "execution_count": null,
      "id": "d2b8bc21",
      "metadata": {
        "id": "d2b8bc21"
      },
      "outputs": [],
      "source": [
        "scaler = StandardScaler()\n",
        "numerical_columns = data.select_dtypes(include=['int64', 'float64']).columns\n",
        "data[numerical_columns] = scaler.fit_transform(data[numerical_columns])"
      ]
    },
    {
      "cell_type": "code",
      "execution_count": null,
      "id": "999ec15d",
      "metadata": {
        "id": "999ec15d",
        "outputId": "527cd439-6c36-4369-91a8-47215003960a"
      },
      "outputs": [
        {
          "name": "stdout",
          "output_type": "stream",
          "text": [
            "Preprocessed data saved to preprocessed_house_prices.csv\n"
          ]
        }
      ],
      "source": [
        "# Save the preprocessed data to a new CSV file\n",
        "data.to_csv(\"preprocessed_house_prices.csv\", index=False)\n",
        "\n",
        "print(\"Preprocessed data saved to preprocessed_house_prices.csv\")"
      ]
    },
    {
      "cell_type": "code",
      "execution_count": null,
      "id": "6a77cbd1",
      "metadata": {
        "id": "6a77cbd1"
      },
      "outputs": [],
      "source": []
    }
  ],
  "metadata": {
    "kernelspec": {
      "display_name": "Python 3 (ipykernel)",
      "language": "python",
      "name": "python3"
    },
    "language_info": {
      "codemirror_mode": {
        "name": "ipython",
        "version": 3
      },
      "file_extension": ".py",
      "mimetype": "text/x-python",
      "name": "python",
      "nbconvert_exporter": "python",
      "pygments_lexer": "ipython3",
      "version": "3.11.5"
    },
    "colab": {
      "provenance": [],
      "include_colab_link": true
    }
  },
  "nbformat": 4,
  "nbformat_minor": 5
}