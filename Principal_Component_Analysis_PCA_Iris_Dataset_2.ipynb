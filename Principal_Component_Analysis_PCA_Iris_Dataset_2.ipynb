{
  "cells": [
    {
      "cell_type": "markdown",
      "metadata": {
        "id": "view-in-github",
        "colab_type": "text"
      },
      "source": [
        "<a href=\"https://colab.research.google.com/github/RaghulJ06/DSAI/blob/main/Principal_Component_Analysis_PCA_Iris_Dataset_2.ipynb\" target=\"_parent\"><img src=\"https://colab.research.google.com/assets/colab-badge.svg\" alt=\"Open In Colab\"/></a>"
      ]
    },
    {
      "cell_type": "markdown",
      "id": "b7d71091",
      "metadata": {
        "id": "b7d71091"
      },
      "source": [
        "# Principal Component Analysis\n",
        "\n",
        "- Iris Dataset"
      ]
    },
    {
      "cell_type": "markdown",
      "id": "a31fcbf9",
      "metadata": {
        "id": "a31fcbf9"
      },
      "source": [
        "### Step 1: Import necessary libraries"
      ]
    },
    {
      "cell_type": "code",
      "execution_count": null,
      "id": "6dadaefa",
      "metadata": {
        "id": "6dadaefa"
      },
      "outputs": [],
      "source": [
        "import pandas as pd\n",
        "import numpy as np\n",
        "import matplotlib.pyplot as plt\n",
        "from sklearn.preprocessing import StandardScaler\n",
        "from sklearn.decomposition import PCA"
      ]
    },
    {
      "cell_type": "markdown",
      "id": "9a2cee32",
      "metadata": {
        "id": "9a2cee32"
      },
      "source": [
        "### Step 2: Load the dataset"
      ]
    },
    {
      "cell_type": "code",
      "execution_count": null,
      "id": "bb622386",
      "metadata": {
        "id": "bb622386"
      },
      "outputs": [],
      "source": [
        "data = pd.read_csv('/content/iris-1.csv')"
      ]
    },
    {
      "cell_type": "markdown",
      "id": "462fb25d",
      "metadata": {
        "id": "462fb25d"
      },
      "source": [
        "### Step 3: Separate features and target variable"
      ]
    },
    {
      "cell_type": "code",
      "execution_count": null,
      "id": "c9713d50",
      "metadata": {
        "id": "c9713d50"
      },
      "outputs": [],
      "source": [
        "X = data.iloc[:, :-1].values  # Features\n",
        "y = data.iloc[:, -1].values   # Target variable"
      ]
    },
    {
      "cell_type": "markdown",
      "id": "f352f798",
      "metadata": {
        "id": "f352f798"
      },
      "source": [
        "### Step 4: Standardize the feature matrix"
      ]
    },
    {
      "cell_type": "code",
      "execution_count": null,
      "id": "0178e25d",
      "metadata": {
        "id": "0178e25d"
      },
      "outputs": [],
      "source": [
        "scaler = StandardScaler()\n",
        "X_std = scaler.fit_transform(X)"
      ]
    },
    {
      "cell_type": "markdown",
      "id": "cdc51808",
      "metadata": {
        "id": "cdc51808"
      },
      "source": [
        "### Step 5: Apply PCA"
      ]
    },
    {
      "cell_type": "code",
      "execution_count": null,
      "id": "93674ab5",
      "metadata": {
        "id": "93674ab5"
      },
      "outputs": [],
      "source": [
        "pca = PCA()\n",
        "X_pca = pca.fit_transform(X_std)"
      ]
    },
    {
      "cell_type": "markdown",
      "id": "4778b2fd",
      "metadata": {
        "id": "4778b2fd"
      },
      "source": [
        "### Step 6: Calculate and plot the explained variance ratio"
      ]
    },
    {
      "cell_type": "code",
      "execution_count": null,
      "id": "6e00b6ca",
      "metadata": {
        "colab": {
          "base_uri": "https://localhost:8080/",
          "height": 564
        },
        "id": "6e00b6ca",
        "outputId": "ddbc11da-e2c0-4dd0-8ac2-5e50d55f3b0a"
      },
      "outputs": [
        {
          "output_type": "display_data",
          "data": {
            "text/plain": [
              "<Figure size 800x600 with 1 Axes>"
            ],
            "image/png": "[encoded data removed]"
          },
          "metadata": {}
        }
      ],
      "source": [
        "explained_variance = pca.explained_variance_ratio_\n",
        "\n",
        "plt.figure(figsize=(8, 6))\n",
        "plt.bar(range(1, len(explained_variance) + 1), explained_variance, alpha=0.5, align='center')\n",
        "plt.step(range(1, len(explained_variance) + 1), np.cumsum(explained_variance), where='mid')\n",
        "plt.axhline(y=0.95, color='blue', linestyle='--', label='95% Threshold')\n",
        "plt.legend()\n",
        "plt.xlabel('Principal Components')\n",
        "plt.ylabel('Explained Variance Ratio')\n",
        "plt.title('Explained Variance Ratio')\n",
        "plt.show()"
      ]
    },
    {
      "cell_type": "code",
      "execution_count": null,
      "id": "51c77568",
      "metadata": {
        "id": "51c77568"
      },
      "outputs": [],
      "source": []
    },
    {
      "cell_type": "code",
      "execution_count": null,
      "id": "53bd3a14",
      "metadata": {
        "id": "53bd3a14"
      },
      "outputs": [],
      "source": []
    }
  ],
  "metadata": {
    "kernelspec": {
      "display_name": "Python 3 (ipykernel)",
      "language": "python",
      "name": "python3"
    },
    "language_info": {
      "codemirror_mode": {
        "name": "ipython",
        "version": 3
      },
      "file_extension": ".py",
      "mimetype": "text/x-python",
      "name": "python",
      "nbconvert_exporter": "python",
      "pygments_lexer": "ipython3",
      "version": "3.11.5"
    },
    "colab": {
      "provenance": [],
      "include_colab_link": true
    }
  },
  "nbformat": 4,
  "nbformat_minor": 5
}